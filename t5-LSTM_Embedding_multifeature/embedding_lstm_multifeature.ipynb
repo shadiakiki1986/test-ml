{
 "cells": [
  {
   "cell_type": "markdown",
   "metadata": {},
   "source": [
    "Demo of LSTM + embedding + multiple features with Keras"
   ]
  },
  {
   "cell_type": "code",
   "execution_count": 1,
   "metadata": {},
   "outputs": [],
   "source": [
    "%matplotlib inline"
   ]
  },
  {
   "cell_type": "markdown",
   "metadata": {},
   "source": [
    "## Parameters to be set by user\n",
    "\n",
    "Larger noise power means that the LSTM job is tougher\n",
    "\n",
    "- For noise_input = 0, noise_output = 0, `test loss = mse = 9e-5`\n",
    "- For noise_input = 3, noise_output = 0.1, `test loss = mse = 0.0016`\n",
    "- For an untrained LSTM predicting a flat line = 0.5, `test loss = mse = 0.0279`\n",
    "\n",
    "Note that `test loss` is computed in the last cell in this notebook"
   ]
  },
  {
   "cell_type": "code",
   "execution_count": 2,
   "metadata": {},
   "outputs": [],
   "source": [
    "# Noise power to add to input\n",
    "# Set to [0,32]\n",
    "# noise_input = 0\n",
    "noise_input = 3\n",
    "# noise_input = 32\n",
    "\n",
    "# Noise power to add to target\n",
    "# Set to [0,1]\n",
    "# noise_output = 0\n",
    "noise_output = 0.1\n",
    "# noise_output = 10"
   ]
  },
  {
   "cell_type": "markdown",
   "metadata": {},
   "source": [
    "## Start of code"
   ]
  },
  {
   "cell_type": "code",
   "execution_count": 3,
   "metadata": {},
   "outputs": [
    {
     "name": "stderr",
     "output_type": "stream",
     "text": [
      "Using TensorFlow backend.\n"
     ]
    }
   ],
   "source": [
    "from keras.layers import Input, Embedding, concatenate\n",
    "from keras.models import Sequential\n",
    "import numpy as np\n",
    "from keras.layers.recurrent import LSTM\n",
    "from keras.layers.core import Dense, Activation, Flatten\n",
    "from keras.models import Model"
   ]
  },
  {
   "cell_type": "code",
   "execution_count": 4,
   "metadata": {
    "scrolled": true
   },
   "outputs": [
    {
     "data": {
      "text/plain": [
       "(1000, [(5, 3), (5, 3), (5, 3)], (1000,))"
      ]
     },
     "execution_count": 4,
     "metadata": {},
     "output_type": "execute_result"
    }
   ],
   "source": [
    "# Data\n",
    "# Input is 3D matrix: 1st dimension is time, 2nd is the sequences, 3rd is the features\n",
    "#          This would be built from a 2D matrix with dimensions time x features, adding the sequences dimension\n",
    "# Output is just a 1 dimensional vector\n",
    "vocab_size=32\n",
    "look_back = 5\n",
    "n_features = 3\n",
    "n_time = 1000\n",
    "\n",
    "input_array = np.random.randint(vocab_size, size=(n_time, look_back, n_features))\n",
    "\n",
    "# Case 1: simple. Just choose one of the features\n",
    "# target = input_array[:,-1,0].squeeze() / vocab_size\n",
    "\n",
    "# Case 2: average of features\n",
    "target = input_array[:,-1,:].sum(axis=1) / vocab_size / n_features\n",
    "\n",
    "# add noise on top of input *after* having computed the target\n",
    "if noise_input > 0:\n",
    "    input_array = input_array + np.random.randint(noise_input, size = input_array.shape)\n",
    "    input_array = np.minimum(input_array, vocab_size-1)\n",
    "\n",
    "# add noise on top of target\n",
    "if noise_output > 0:\n",
    "    target = target + noise_output*np.random.rand(*target.shape)\n",
    "    target = np.minimum(target, 1)\n",
    "    target = np.maximum(target, 0)\n",
    "\n",
    "# summary of shapes\n",
    "len(input_array), [x.shape for x in input_array][:3], target.shape"
   ]
  },
  {
   "cell_type": "code",
   "execution_count": 5,
   "metadata": {},
   "outputs": [],
   "source": [
    "# modify input_array to become list of 2D matrices for each feature\n",
    "input_array = [input_array[:,:,i].squeeze() for i in range(n_features)]\n",
    "\n",
    "input_train = [x[:(n_time*2//3),:] for x in input_array]\n",
    "target_train = target[:(n_time*2//3)]\n",
    "\n",
    "input_test = [x[(n_time*2//3):,:] for x in input_array]\n",
    "target_test = target[(n_time*2//3):]"
   ]
  },
  {
   "cell_type": "code",
   "execution_count": 6,
   "metadata": {},
   "outputs": [
    {
     "name": "stdout",
     "output_type": "stream",
     "text": [
      "__________________________________________________________________________________________________\n",
      "Layer (type)                    Output Shape         Param #     Connected to                     \n",
      "==================================================================================================\n",
      "input_1 (InputLayer)            (None, 5)            0                                            \n",
      "__________________________________________________________________________________________________\n",
      "input_2 (InputLayer)            (None, 5)            0                                            \n",
      "__________________________________________________________________________________________________\n",
      "input_3 (InputLayer)            (None, 5)            0                                            \n",
      "__________________________________________________________________________________________________\n",
      "embedding_1 (Embedding)         (None, 5, 2)         64          input_1[0][0]                    \n",
      "__________________________________________________________________________________________________\n",
      "embedding_2 (Embedding)         (None, 5, 2)         64          input_2[0][0]                    \n",
      "__________________________________________________________________________________________________\n",
      "embedding_3 (Embedding)         (None, 5, 2)         64          input_3[0][0]                    \n",
      "__________________________________________________________________________________________________\n",
      "concatenate_1 (Concatenate)     (None, 5, 6)         0           embedding_1[0][0]                \n",
      "                                                                 embedding_2[0][0]                \n",
      "                                                                 embedding_3[0][0]                \n",
      "__________________________________________________________________________________________________\n",
      "lstm_1 (LSTM)                   (None, 5)            240         concatenate_1[0][0]              \n",
      "__________________________________________________________________________________________________\n",
      "dense_1 (Dense)                 (None, 1)            6           lstm_1[0][0]                     \n",
      "==================================================================================================\n",
      "Total params: 438\n",
      "Trainable params: 438\n",
      "Non-trainable params: 0\n",
      "__________________________________________________________________________________________________\n"
     ]
    }
   ],
   "source": [
    "# Model\n",
    "\n",
    "# input is an array of inputs, where we're using the multi-input feature of Keras\n",
    "# From https://keras.io/getting-started/functional-api-guide/#multi-input-and-multi-output-models\n",
    "inputs = [Input(shape=(look_back,)) for x in range(n_features)]\n",
    "\n",
    "# Choose the desired dimensionality of the embedding\n",
    "desired_dimension = 2\n",
    "\n",
    "# proceed with embedding each feature matrix\n",
    "x = [Embedding(input_dim=vocab_size, output_dim=desired_dimension, input_length=look_back)(y) for y in inputs]\n",
    "\n",
    "# concatenate all embedding outputs\n",
    "x = concatenate(x)\n",
    "\n",
    "# regular keras-fu from here on\n",
    "x = LSTM(5)(x)\n",
    "output = Dense(1, activation='sigmoid')(x)\n",
    "model = Model(inputs=inputs, outputs=[output]) # <<< set multi-input to single-output here\n",
    "model.compile(loss='mse', optimizer='rmsprop')\n",
    "model.summary()"
   ]
  },
  {
   "cell_type": "code",
   "execution_count": 11,
   "metadata": {},
   "outputs": [],
   "source": [
    "history = model.fit(\n",
    "  input_train,\n",
    "  y=target_train,\n",
    "  epochs=125, verbose=0, validation_split=0.2, shuffle=True\n",
    ")"
   ]
  },
  {
   "cell_type": "markdown",
   "metadata": {},
   "source": [
    "## Prediction"
   ]
  },
  {
   "cell_type": "code",
   "execution_count": 8,
   "metadata": {},
   "outputs": [],
   "source": [
    "predicted = model.predict(input_test)"
   ]
  },
  {
   "cell_type": "code",
   "execution_count": 9,
   "metadata": {},
   "outputs": [
    {
     "data": {
      "image/png": "[encoded data removed]",
      "text/plain": [
       "<Figure size 432x288 with 1 Axes>"
      ]
     },
     "metadata": {},
     "output_type": "display_data"
    }
   ],
   "source": [
    "from matplotlib import pyplot as plt\n",
    "\n",
    "n_show = 50\n",
    "\n",
    "plt.plot(predicted[:n_show])\n",
    "plt.plot(target_test[:n_show])\n",
    "plt.title(\"prediction vs actual\")\n",
    "plt.show()"
   ]
  },
  {
   "cell_type": "code",
   "execution_count": 10,
   "metadata": {},
   "outputs": [
    {
     "name": "stdout",
     "output_type": "stream",
     "text": [
      "334/334 [==============================] - 0s 57us/step\n",
      "test loss = mse 0.006308564408940213\n"
     ]
    }
   ],
   "source": [
    "# Prediction for the 1st time point for example\n",
    "# Note that \"0:1\" below will output the 0 index, while maintaining the dimension\n",
    "# Also note that the passed argument is a lits of matrices\n",
    "result = model.evaluate(input_test, target_test)\n",
    "print(\"test loss = mse\", result)"
   ]
  },
  {
   "cell_type": "code",
   "execution_count": null,
   "metadata": {},
   "outputs": [],
   "source": []
  }
 ],
 "metadata": {
  "kernelspec": {
   "display_name": "Python 3",
   "language": "python",
   "name": "python3"
  },
  "language_info": {
   "codemirror_mode": {
    "name": "ipython",
    "version": 3
   },
   "file_extension": ".py",
   "mimetype": "text/x-python",
   "name": "python",
   "nbconvert_exporter": "python",
   "pygments_lexer": "ipython3",
   "version": "3.5.2"
  }
 },
 "nbformat": 4,
 "nbformat_minor": 2
}

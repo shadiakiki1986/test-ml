{
 "cells": [
  {
   "cell_type": "code",
   "execution_count": 1,
   "metadata": {
    "collapsed": true
   },
   "outputs": [],
   "source": [
    "# Copy from\n",
    "# http://machinelearningmastery.com/time-series-prediction-with-deep-learning-in-python-with-keras/"
   ]
  },
  {
   "cell_type": "code",
   "execution_count": 2,
   "metadata": {},
   "outputs": [
    {
     "name": "stderr",
     "output_type": "stream",
     "text": [
      "Using TensorFlow backend.\n"
     ]
    }
   ],
   "source": [
    "#-------------------------------------\n",
    "# Multilayer Perceptron to Predict International Airline Passengers (t+1, given t, t-1, t-2)\n",
    "import numpy\n",
    "import matplotlib.pyplot as plt\n",
    "from pandas import read_csv\n",
    "import math\n",
    "from keras.models import Sequential\n",
    "from keras.layers import Dense"
   ]
  },
  {
   "cell_type": "code",
   "execution_count": 3,
   "metadata": {},
   "outputs": [
    {
     "name": "stdout",
     "output_type": "stream",
     "text": [
      "dataframe (144, 1)\n",
      "train/test (96, 1) (48, 1)\n"
     ]
    }
   ],
   "source": [
    "# fix random seed for reproducibility\n",
    "numpy.random.seed(7)\n",
    "# load the dataset\n",
    "dataframe = read_csv('international-airline-passengers.csv', usecols=[1], engine='python', skipfooter=3)\n",
    "print('dataframe', dataframe.shape)\n",
    "dataset = dataframe.values\n",
    "dataset = dataset.astype('float32')\n",
    "# split into train and test sets\n",
    "train_size = int(len(dataset) * 0.67)\n",
    "test_size = len(dataset) - train_size\n",
    "train, test = dataset[0:train_size,:], dataset[train_size:len(dataset),:]\n",
    "print('train/test',train.shape, test.shape)"
   ]
  },
  {
   "cell_type": "code",
   "execution_count": 4,
   "metadata": {},
   "outputs": [
    {
     "name": "stdout",
     "output_type": "stream",
     "text": [
      "train x/y + test x/y (92, 3) (92,) (44, 3) (44,)\n"
     ]
    }
   ],
   "source": [
    "# convert an array of values into a dataset matrix\n",
    "def create_dataset(dataset, look_back=1):\n",
    "    dataX, dataY = [], []\n",
    "    for i in range(len(dataset)-look_back-1):\n",
    "        a = dataset[i:(i+look_back), 0]\n",
    "        dataX.append(a)\n",
    "        dataY.append(dataset[i + look_back, 0])\n",
    "    return numpy.array(dataX), numpy.array(dataY)\n",
    "\n",
    "# reshape dataset\n",
    "look_back = 3\n",
    "trainX, trainY = create_dataset(train, look_back)\n",
    "testX, testY = create_dataset(test, look_back)\n",
    "print('train x/y + test x/y',trainX.shape, trainY.shape, testX.shape, testY.shape)"
   ]
  },
  {
   "cell_type": "code",
   "execution_count": 5,
   "metadata": {
    "scrolled": true
   },
   "outputs": [
    {
     "name": "stdout",
     "output_type": "stream",
     "text": [
      "Epoch 1/100\n",
      "0s - loss: 56045.2964\n",
      "Epoch 2/100\n",
      "0s - loss: 35501.6417\n",
      "Epoch 3/100\n",
      "0s - loss: 22937.7171\n",
      "Epoch 4/100\n",
      "0s - loss: 12260.9112\n",
      "Epoch 5/100\n",
      "0s - loss: 5375.7001\n",
      "Epoch 6/100\n",
      "0s - loss: 2165.0638\n",
      "Epoch 7/100\n",
      "0s - loss: 1242.3028\n",
      "Epoch 8/100\n",
      "0s - loss: 1095.9341\n",
      "Epoch 9/100\n",
      "0s - loss: 1072.8205\n",
      "Epoch 10/100\n",
      "0s - loss: 1063.4296\n",
      "Epoch 11/100\n",
      "0s - loss: 1049.4932\n",
      "Epoch 12/100\n",
      "0s - loss: 1057.4532\n",
      "Epoch 13/100\n",
      "0s - loss: 1052.4514\n",
      "Epoch 14/100\n",
      "0s - loss: 1047.0288\n",
      "Epoch 15/100\n",
      "0s - loss: 1045.4649\n",
      "Epoch 16/100\n",
      "0s - loss: 1037.5983\n",
      "Epoch 17/100\n",
      "0s - loss: 1044.8115\n",
      "Epoch 18/100\n",
      "0s - loss: 1042.4509\n",
      "Epoch 19/100\n",
      "0s - loss: 1078.4533\n",
      "Epoch 20/100\n",
      "0s - loss: 1047.2542\n",
      "Epoch 21/100\n",
      "0s - loss: 1032.3401\n",
      "Epoch 22/100\n",
      "0s - loss: 1047.4466\n",
      "Epoch 23/100\n",
      "0s - loss: 1064.0334\n",
      "Epoch 24/100\n",
      "0s - loss: 1025.0691\n",
      "Epoch 25/100\n",
      "0s - loss: 1021.3757\n",
      "Epoch 26/100\n",
      "0s - loss: 1029.8054\n",
      "Epoch 27/100\n",
      "0s - loss: 1008.6262\n",
      "Epoch 28/100\n",
      "0s - loss: 1018.9446\n",
      "Epoch 29/100\n",
      "0s - loss: 996.1035\n",
      "Epoch 30/100\n",
      "0s - loss: 995.8445\n",
      "Epoch 31/100\n",
      "0s - loss: 999.3163\n",
      "Epoch 32/100\n",
      "0s - loss: 988.5175\n",
      "Epoch 33/100\n",
      "0s - loss: 995.1663\n",
      "Epoch 34/100\n",
      "0s - loss: 981.6813\n",
      "Epoch 35/100\n",
      "0s - loss: 984.8070\n",
      "Epoch 36/100\n",
      "0s - loss: 967.3468\n",
      "Epoch 37/100\n",
      "0s - loss: 975.4658\n",
      "Epoch 38/100\n",
      "0s - loss: 980.2051\n",
      "Epoch 39/100\n",
      "0s - loss: 954.7869\n",
      "Epoch 40/100\n",
      "0s - loss: 946.5031\n",
      "Epoch 41/100\n",
      "0s - loss: 957.8619\n",
      "Epoch 42/100\n",
      "0s - loss: 939.3378\n",
      "Epoch 43/100\n",
      "0s - loss: 928.0698\n",
      "Epoch 44/100\n",
      "0s - loss: 931.7544\n",
      "Epoch 45/100\n",
      "0s - loss: 922.1965\n",
      "Epoch 46/100\n",
      "0s - loss: 948.8140\n",
      "Epoch 47/100\n",
      "0s - loss: 908.8237\n",
      "Epoch 48/100\n",
      "0s - loss: 918.3599\n",
      "Epoch 49/100\n",
      "0s - loss: 918.9192\n",
      "Epoch 50/100\n",
      "0s - loss: 891.9804\n",
      "Epoch 51/100\n",
      "0s - loss: 900.4788\n",
      "Epoch 52/100\n",
      "0s - loss: 882.7615\n",
      "Epoch 53/100\n",
      "0s - loss: 876.9760\n",
      "Epoch 54/100\n",
      "0s - loss: 868.8492\n",
      "Epoch 55/100\n",
      "0s - loss: 883.5014\n",
      "Epoch 56/100\n",
      "0s - loss: 872.8402\n",
      "Epoch 57/100\n",
      "0s - loss: 858.9885\n",
      "Epoch 58/100\n",
      "0s - loss: 874.0715\n",
      "Epoch 59/100\n",
      "0s - loss: 844.0264\n",
      "Epoch 60/100\n",
      "0s - loss: 841.3007\n",
      "Epoch 61/100\n",
      "0s - loss: 841.0823\n",
      "Epoch 62/100\n",
      "0s - loss: 832.4937\n",
      "Epoch 63/100\n",
      "0s - loss: 805.9706\n",
      "Epoch 64/100\n",
      "0s - loss: 869.0373\n",
      "Epoch 65/100\n",
      "0s - loss: 805.8576\n",
      "Epoch 66/100\n",
      "0s - loss: 802.6712\n",
      "Epoch 67/100\n",
      "0s - loss: 815.8295\n",
      "Epoch 68/100\n",
      "0s - loss: 802.6101\n",
      "Epoch 69/100\n",
      "0s - loss: 783.4206\n",
      "Epoch 70/100\n",
      "0s - loss: 785.4129\n",
      "Epoch 71/100\n",
      "0s - loss: 788.8760\n",
      "Epoch 72/100\n",
      "0s - loss: 761.5949\n",
      "Epoch 73/100\n",
      "0s - loss: 756.3096\n",
      "Epoch 74/100\n",
      "0s - loss: 758.6474\n",
      "Epoch 75/100\n",
      "0s - loss: 796.1587\n",
      "Epoch 76/100\n",
      "0s - loss: 753.7028\n",
      "Epoch 77/100\n",
      "0s - loss: 747.4770\n",
      "Epoch 78/100\n",
      "0s - loss: 733.1843\n",
      "Epoch 79/100\n",
      "0s - loss: 748.9254\n",
      "Epoch 80/100\n",
      "0s - loss: 750.0171\n",
      "Epoch 81/100\n",
      "0s - loss: 729.5518\n",
      "Epoch 82/100\n",
      "0s - loss: 738.5416\n",
      "Epoch 83/100\n",
      "0s - loss: 703.9186\n",
      "Epoch 84/100\n",
      "0s - loss: 715.3169\n",
      "Epoch 85/100\n",
      "0s - loss: 711.5943\n",
      "Epoch 86/100\n",
      "0s - loss: 719.7117\n",
      "Epoch 87/100\n",
      "0s - loss: 685.2262\n",
      "Epoch 88/100\n",
      "0s - loss: 714.2495\n",
      "Epoch 89/100\n",
      "0s - loss: 696.3994\n",
      "Epoch 90/100\n",
      "0s - loss: 703.1438\n",
      "Epoch 91/100\n",
      "0s - loss: 671.4837\n",
      "Epoch 92/100\n",
      "0s - loss: 688.3386\n",
      "Epoch 93/100\n",
      "0s - loss: 676.7948\n",
      "Epoch 94/100\n",
      "0s - loss: 657.6509\n",
      "Epoch 95/100\n",
      "0s - loss: 694.7614\n",
      "Epoch 96/100\n",
      "0s - loss: 659.5053\n",
      "Epoch 97/100\n",
      "0s - loss: 656.3483\n",
      "Epoch 98/100\n",
      "0s - loss: 643.4521\n",
      "Epoch 99/100\n",
      "0s - loss: 666.8091\n",
      "Epoch 100/100\n",
      "0s - loss: 631.0030\n"
     ]
    },
    {
     "data": {
      "text/plain": [
       "<keras.callbacks.History at 0x7f3546dfd6a0>"
      ]
     },
     "execution_count": 5,
     "metadata": {},
     "output_type": "execute_result"
    }
   ],
   "source": [
    "# create and fit Multilayer Perceptron model\n",
    "model = Sequential()\n",
    "model.add(Dense(12, input_dim=look_back, activation='relu'))\n",
    "model.add(Dense(8, activation='relu'))\n",
    "model.add(Dense(1))\n",
    "model.compile(loss='mean_squared_error', optimizer='adam')\n",
    "model.fit(trainX, trainY, epochs=100, batch_size=2, verbose=2)"
   ]
  },
  {
   "cell_type": "code",
   "execution_count": 6,
   "metadata": {},
   "outputs": [
    {
     "name": "stdout",
     "output_type": "stream",
     "text": [
      "Train Score: 641.10 MSE (25.32 RMSE)\n",
      "Test Score: 2862.30 MSE (53.50 RMSE)\n"
     ]
    }
   ],
   "source": [
    "# Estimate model performance\n",
    "trainScore = model.evaluate(trainX, trainY, verbose=0)\n",
    "print('Train Score: %.2f MSE (%.2f RMSE)' % (trainScore, math.sqrt(trainScore)))\n",
    "testScore = model.evaluate(testX, testY, verbose=0)\n",
    "print('Test Score: %.2f MSE (%.2f RMSE)' % (testScore, math.sqrt(testScore)))\n",
    "# generate predictions for training\n",
    "trainPredict = model.predict(trainX)\n",
    "testPredict = model.predict(testX)"
   ]
  },
  {
   "cell_type": "code",
   "execution_count": 7,
   "metadata": {
    "scrolled": true
   },
   "outputs": [
    {
     "data": {
      "image/png": "[encoded data removed]",
      "text/plain": [
       "<matplotlib.figure.Figure at 0x7f35444d9048>"
      ]
     },
     "metadata": {},
     "output_type": "display_data"
    }
   ],
   "source": [
    "# shift train predictions for plotting\n",
    "trainPredictPlot = numpy.empty_like(dataset)\n",
    "trainPredictPlot[:, :] = numpy.nan\n",
    "trainPredictPlot[look_back:len(trainPredict)+look_back, :] = trainPredict\n",
    "# shift test predictions for plotting\n",
    "testPredictPlot = numpy.empty_like(dataset)\n",
    "testPredictPlot[:, :] = numpy.nan\n",
    "testPredictPlot[len(trainPredict)+(look_back*2)+1:len(dataset)-1, :] = testPredict\n",
    "# plot baseline and predictions\n",
    "plt.plot(dataset)\n",
    "plt.plot(trainPredictPlot)\n",
    "plt.plot(testPredictPlot)\n",
    "plt.show()"
   ]
  },
  {
   "cell_type": "code",
   "execution_count": null,
   "metadata": {
    "collapsed": true
   },
   "outputs": [],
   "source": []
  }
 ],
 "metadata": {
  "kernelspec": {
   "display_name": "Python 3",
   "language": "python",
   "name": "python3"
  },
  "language_info": {
   "codemirror_mode": {
    "name": "ipython",
    "version": 3
   },
   "file_extension": ".py",
   "mimetype": "text/x-python",
   "name": "python",
   "nbconvert_exporter": "python",
   "pygments_lexer": "ipython3",
   "version": "3.5.3"
  }
 },
 "nbformat": 4,
 "nbformat_minor": 2
}
